{
 "cells": [
  {
   "cell_type": "code",
   "execution_count": 1,
   "metadata": {},
   "outputs": [],
   "source": [
    "import pandas as pd"
   ]
  },
  {
   "cell_type": "code",
   "execution_count": 2,
   "metadata": {},
   "outputs": [
    {
     "data": {
      "text/html": [
       "<div>\n",
       "<style scoped>\n",
       "    .dataframe tbody tr th:only-of-type {\n",
       "        vertical-align: middle;\n",
       "    }\n",
       "\n",
       "    .dataframe tbody tr th {\n",
       "        vertical-align: top;\n",
       "    }\n",
       "\n",
       "    .dataframe thead th {\n",
       "        text-align: right;\n",
       "    }\n",
       "</style>\n",
       "<table border=\"1\" class=\"dataframe\">\n",
       "  <thead>\n",
       "    <tr style=\"text-align: right;\">\n",
       "      <th></th>\n",
       "      <th>Season</th>\n",
       "      <th>Episode</th>\n",
       "      <th>Character</th>\n",
       "      <th>Line</th>\n",
       "    </tr>\n",
       "  </thead>\n",
       "  <tbody>\n",
       "    <tr>\n",
       "      <th>0</th>\n",
       "      <td>10</td>\n",
       "      <td>1</td>\n",
       "      <td>Stan</td>\n",
       "      <td>You guys, you guys! Chef is going away. \\n</td>\n",
       "    </tr>\n",
       "    <tr>\n",
       "      <th>1</th>\n",
       "      <td>10</td>\n",
       "      <td>1</td>\n",
       "      <td>Kyle</td>\n",
       "      <td>Going away? For how long?\\n</td>\n",
       "    </tr>\n",
       "    <tr>\n",
       "      <th>2</th>\n",
       "      <td>10</td>\n",
       "      <td>1</td>\n",
       "      <td>Stan</td>\n",
       "      <td>Forever.\\n</td>\n",
       "    </tr>\n",
       "    <tr>\n",
       "      <th>3</th>\n",
       "      <td>10</td>\n",
       "      <td>1</td>\n",
       "      <td>Chef</td>\n",
       "      <td>I'm sorry boys.\\n</td>\n",
       "    </tr>\n",
       "    <tr>\n",
       "      <th>4</th>\n",
       "      <td>10</td>\n",
       "      <td>1</td>\n",
       "      <td>Stan</td>\n",
       "      <td>Chef said he's been bored, so he joining a gro...</td>\n",
       "    </tr>\n",
       "    <tr>\n",
       "      <th>...</th>\n",
       "      <td>...</td>\n",
       "      <td>...</td>\n",
       "      <td>...</td>\n",
       "      <td>...</td>\n",
       "    </tr>\n",
       "    <tr>\n",
       "      <th>70891</th>\n",
       "      <td>9</td>\n",
       "      <td>14</td>\n",
       "      <td>Stan</td>\n",
       "      <td>I think you're pushing it.\\n</td>\n",
       "    </tr>\n",
       "    <tr>\n",
       "      <th>70892</th>\n",
       "      <td>9</td>\n",
       "      <td>14</td>\n",
       "      <td>Randy</td>\n",
       "      <td>How about twenty?\\n</td>\n",
       "    </tr>\n",
       "    <tr>\n",
       "      <th>70893</th>\n",
       "      <td>9</td>\n",
       "      <td>14</td>\n",
       "      <td>Stan</td>\n",
       "      <td>That's not disciprine.\\n</td>\n",
       "    </tr>\n",
       "    <tr>\n",
       "      <th>70894</th>\n",
       "      <td>9</td>\n",
       "      <td>14</td>\n",
       "      <td>Randy</td>\n",
       "      <td>Right right. Does vodka count?\\n</td>\n",
       "    </tr>\n",
       "    <tr>\n",
       "      <th>70895</th>\n",
       "      <td>9</td>\n",
       "      <td>14</td>\n",
       "      <td>Stan</td>\n",
       "      <td>Dad!\\n</td>\n",
       "    </tr>\n",
       "  </tbody>\n",
       "</table>\n",
       "<p>70896 rows × 4 columns</p>\n",
       "</div>"
      ],
      "text/plain": [
       "      Season Episode Character  \\\n",
       "0         10       1      Stan   \n",
       "1         10       1      Kyle   \n",
       "2         10       1      Stan   \n",
       "3         10       1      Chef   \n",
       "4         10       1      Stan   \n",
       "...      ...     ...       ...   \n",
       "70891      9      14      Stan   \n",
       "70892      9      14     Randy   \n",
       "70893      9      14      Stan   \n",
       "70894      9      14     Randy   \n",
       "70895      9      14      Stan   \n",
       "\n",
       "                                                    Line  \n",
       "0             You guys, you guys! Chef is going away. \\n  \n",
       "1                            Going away? For how long?\\n  \n",
       "2                                             Forever.\\n  \n",
       "3                                      I'm sorry boys.\\n  \n",
       "4      Chef said he's been bored, so he joining a gro...  \n",
       "...                                                  ...  \n",
       "70891                       I think you're pushing it.\\n  \n",
       "70892                                How about twenty?\\n  \n",
       "70893                           That's not disciprine.\\n  \n",
       "70894                   Right right. Does vodka count?\\n  \n",
       "70895                                             Dad!\\n  \n",
       "\n",
       "[70896 rows x 4 columns]"
      ]
     },
     "execution_count": 2,
     "metadata": {},
     "output_type": "execute_result"
    }
   ],
   "source": [
    "df = pd.read_csv(\"https://0x0.st/H5DC.csv\")\n",
    "df"
   ]
  },
  {
   "cell_type": "code",
   "execution_count": 47,
   "metadata": {},
   "outputs": [],
   "source": [
    "from transformers import AutoTokenizer, AutoModel\n",
    "import torch\n",
    "\n",
    "tokenizer = AutoTokenizer.from_pretrained(\"sentence-transformers/all-MiniLM-L6-v2\")\n",
    "model = AutoModel.from_pretrained(\"sentence-transformers/all-MiniLM-L6-v2\")"
   ]
  },
  {
   "cell_type": "code",
   "execution_count": 49,
   "metadata": {},
   "outputs": [],
   "source": [
    "import re\n",
    "\n",
    "REGEX_WHITESPACE = re.compile(r\"\\s+\")\n",
    "\n",
    "\n",
    "def clean_text(text):\n",
    "    text = re.sub(REGEX_WHITESPACE, \" \", text)\n",
    "    text = text.strip()\n",
    "    return text"
   ]
  },
  {
   "cell_type": "code",
   "execution_count": 50,
   "metadata": {},
   "outputs": [],
   "source": [
    "df[\"cleaned_text\"] = df[\"Line\"].apply(clean_text)"
   ]
  },
  {
   "cell_type": "code",
   "execution_count": 51,
   "metadata": {},
   "outputs": [
    {
     "data": {
      "text/plain": [
       "0                 You guys, you guys! Chef is going away.\n",
       "1                                                Forever.\n",
       "2       Chef said he's been bored, so he joining a gro...\n",
       "3       Dude, how are we gonna go on? Chef was our fuh...\n",
       "4                                            I'll get it.\n",
       "                              ...                        \n",
       "7675                                           All right!\n",
       "7676           That's probably okay if you spread it out.\n",
       "7677                           I think you're pushing it.\n",
       "7678                               That's not disciprine.\n",
       "7679                                                 Dad!\n",
       "Name: cleaned_text, Length: 7680, dtype: object"
      ]
     },
     "execution_count": 51,
     "metadata": {},
     "output_type": "execute_result"
    }
   ],
   "source": [
    "stan = df[df[\"Character\"] == \"Stan\"][\"cleaned_text\"].reset_index(drop=True)\n",
    "stan"
   ]
  },
  {
   "cell_type": "code",
   "execution_count": 48,
   "metadata": {},
   "outputs": [],
   "source": [
    "import numpy as np\n",
    "\n",
    "\n",
    "def get_embedding(text):\n",
    "    inputs = tokenizer(\n",
    "        text, return_tensors=\"pt\", padding=True, truncation=True, max_length=512\n",
    "    )\n",
    "    with torch.no_grad():\n",
    "        outputs = model(**inputs)\n",
    "    embeddings = outputs.last_hidden_state.mean(dim=1)\n",
    "    return embeddings.numpy()"
   ]
  },
  {
   "cell_type": "code",
   "execution_count": 53,
   "metadata": {},
   "outputs": [
    {
     "data": {
      "text/plain": [
       "0       [[0.049187645, -0.05694672, 0.07485127, 0.2308...\n",
       "1       [[-0.40455797, 0.094735384, -0.069649436, 0.23...\n",
       "2       [[-0.0007675134, -0.2751124, -0.22038087, 0.48...\n",
       "3       [[0.0039247703, -0.062776096, -0.2656448, 0.14...\n",
       "4       [[-0.638608, 0.11582565, -0.13687724, -0.17727...\n",
       "                              ...                        \n",
       "7675    [[-0.14151666, 0.0066320896, -0.32950217, -0.4...\n",
       "7676    [[0.21162994, -0.13237353, -0.0614202, 0.16815...\n",
       "7677    [[-0.013884425, -0.34359527, 0.058191538, -0.3...\n",
       "7678    [[0.25847092, -0.42476812, -0.06599857, -0.138...\n",
       "7679    [[-0.34460104, 0.13874263, -0.26019868, -0.173...\n",
       "Name: cleaned_text, Length: 7680, dtype: object"
      ]
     },
     "execution_count": 53,
     "metadata": {},
     "output_type": "execute_result"
    }
   ],
   "source": [
    "stan_embeddings = stan.apply(get_embedding)\n",
    "stan_embeddings"
   ]
  },
  {
   "cell_type": "code",
   "execution_count": 61,
   "metadata": {},
   "outputs": [],
   "source": [
    "import numpy as np\n",
    "\n",
    "np.save(\"data/stan_embeddings.npy\", stan_embeddings.to_numpy())\n",
    "np.save(\"data/stan.npy\", stan.to_numpy())"
   ]
  },
  {
   "cell_type": "code",
   "execution_count": 54,
   "metadata": {},
   "outputs": [],
   "source": [
    "from sklearn.metrics.pairwise import cosine_similarity\n",
    "\n",
    "\n",
    "def respond(query):\n",
    "    query_embedding = get_embedding(query)\n",
    "    similarity = cosine_similarity(np.vstack(stan_embeddings), query_embedding)\n",
    "    most_similar_index = similarity.argmax()\n",
    "    return stan[most_similar_index], similarity[most_similar_index]"
   ]
  },
  {
   "cell_type": "code",
   "execution_count": 55,
   "metadata": {},
   "outputs": [
    {
     "name": "stdout",
     "output_type": "stream",
     "text": [
      "Q: What's your favorite thing to do with your friends after school?\n",
      "A: So today we went to the amusement park with all our possible friends. It was a really fun time. We rode all the rides and everyone got along great.\n",
      "Score: 0.471310019493103\n",
      "\n",
      "Q: How do you feel about Wendy?\n",
      "A: Wendy, why is it such a big deal?\n",
      "Score: 0.760873019695282\n",
      "\n",
      "Q: What do you think about Eric Cartman?\n",
      "A: What the hell's wrong with Cartman?!\n",
      "Score: 0.6942796111106873\n",
      "\n",
      "Q: Do you like living in South Park?\n",
      "A: What other crime in South Park?\n",
      "Score: 0.5700172185897827\n",
      "\n",
      "Q: I need to leave now, bye!\n",
      "A: You're leaving already?\n",
      "Score: 0.5960509181022644\n",
      "\n"
     ]
    }
   ],
   "source": [
    "input_lines = [\n",
    "    \"What's your favorite thing to do with your friends after school?\",\n",
    "    \"How do you feel about Wendy?\",\n",
    "    \"What do you think about Eric Cartman?\",\n",
    "    \"Do you like living in South Park?\",\n",
    "    \"I need to leave now, bye!\",\n",
    "]\n",
    "\n",
    "responses = []\n",
    "scores = []\n",
    "\n",
    "for line in input_lines:\n",
    "    response, score = respond(line)\n",
    "    responses.append(response)\n",
    "    scores.append(score)\n",
    "    print(f\"Q: {line}\\nA: {response}\\nScore: {score.max()}\\n\")"
   ]
  },
  {
   "cell_type": "code",
   "execution_count": null,
   "metadata": {},
   "outputs": [],
   "source": []
  }
 ],
 "metadata": {
  "kernelspec": {
   "display_name": "nlphw1",
   "language": "python",
   "name": "python3"
  },
  "language_info": {
   "codemirror_mode": {
    "name": "ipython",
    "version": 3
   },
   "file_extension": ".py",
   "mimetype": "text/x-python",
   "name": "python",
   "nbconvert_exporter": "python",
   "pygments_lexer": "ipython3",
   "version": "3.11.8"
  }
 },
 "nbformat": 4,
 "nbformat_minor": 2
}
