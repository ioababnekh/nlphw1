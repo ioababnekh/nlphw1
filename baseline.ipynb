{
 "cells": [
  {
   "cell_type": "code",
   "execution_count": 13,
   "metadata": {
    "id": "T0wLn2y2DVR-"
   },
   "outputs": [],
   "source": [
    "import pandas as pd"
   ]
  },
  {
   "cell_type": "code",
   "execution_count": 14,
   "metadata": {
    "colab": {
     "base_uri": "https://localhost:8080/",
     "height": 424
    },
    "id": "asgIB82ADVR_",
    "outputId": "705d8666-e9ca-4071-bf94-c3946bed74c4"
   },
   "outputs": [
    {
     "data": {
      "text/html": [
       "<div>\n",
       "<style scoped>\n",
       "    .dataframe tbody tr th:only-of-type {\n",
       "        vertical-align: middle;\n",
       "    }\n",
       "\n",
       "    .dataframe tbody tr th {\n",
       "        vertical-align: top;\n",
       "    }\n",
       "\n",
       "    .dataframe thead th {\n",
       "        text-align: right;\n",
       "    }\n",
       "</style>\n",
       "<table border=\"1\" class=\"dataframe\">\n",
       "  <thead>\n",
       "    <tr style=\"text-align: right;\">\n",
       "      <th></th>\n",
       "      <th>Season</th>\n",
       "      <th>Episode</th>\n",
       "      <th>Character</th>\n",
       "      <th>Line</th>\n",
       "    </tr>\n",
       "  </thead>\n",
       "  <tbody>\n",
       "    <tr>\n",
       "      <th>0</th>\n",
       "      <td>10</td>\n",
       "      <td>1</td>\n",
       "      <td>Stan</td>\n",
       "      <td>You guys, you guys! Chef is going away. \\n</td>\n",
       "    </tr>\n",
       "    <tr>\n",
       "      <th>1</th>\n",
       "      <td>10</td>\n",
       "      <td>1</td>\n",
       "      <td>Kyle</td>\n",
       "      <td>Going away? For how long?\\n</td>\n",
       "    </tr>\n",
       "    <tr>\n",
       "      <th>2</th>\n",
       "      <td>10</td>\n",
       "      <td>1</td>\n",
       "      <td>Stan</td>\n",
       "      <td>Forever.\\n</td>\n",
       "    </tr>\n",
       "    <tr>\n",
       "      <th>3</th>\n",
       "      <td>10</td>\n",
       "      <td>1</td>\n",
       "      <td>Chef</td>\n",
       "      <td>I'm sorry boys.\\n</td>\n",
       "    </tr>\n",
       "    <tr>\n",
       "      <th>4</th>\n",
       "      <td>10</td>\n",
       "      <td>1</td>\n",
       "      <td>Stan</td>\n",
       "      <td>Chef said he's been bored, so he joining a gro...</td>\n",
       "    </tr>\n",
       "    <tr>\n",
       "      <th>...</th>\n",
       "      <td>...</td>\n",
       "      <td>...</td>\n",
       "      <td>...</td>\n",
       "      <td>...</td>\n",
       "    </tr>\n",
       "    <tr>\n",
       "      <th>70891</th>\n",
       "      <td>9</td>\n",
       "      <td>14</td>\n",
       "      <td>Stan</td>\n",
       "      <td>I think you're pushing it.\\n</td>\n",
       "    </tr>\n",
       "    <tr>\n",
       "      <th>70892</th>\n",
       "      <td>9</td>\n",
       "      <td>14</td>\n",
       "      <td>Randy</td>\n",
       "      <td>How about twenty?\\n</td>\n",
       "    </tr>\n",
       "    <tr>\n",
       "      <th>70893</th>\n",
       "      <td>9</td>\n",
       "      <td>14</td>\n",
       "      <td>Stan</td>\n",
       "      <td>That's not disciprine.\\n</td>\n",
       "    </tr>\n",
       "    <tr>\n",
       "      <th>70894</th>\n",
       "      <td>9</td>\n",
       "      <td>14</td>\n",
       "      <td>Randy</td>\n",
       "      <td>Right right. Does vodka count?\\n</td>\n",
       "    </tr>\n",
       "    <tr>\n",
       "      <th>70895</th>\n",
       "      <td>9</td>\n",
       "      <td>14</td>\n",
       "      <td>Stan</td>\n",
       "      <td>Dad!\\n</td>\n",
       "    </tr>\n",
       "  </tbody>\n",
       "</table>\n",
       "<p>70896 rows × 4 columns</p>\n",
       "</div>"
      ],
      "text/plain": [
       "      Season Episode Character  \\\n",
       "0         10       1      Stan   \n",
       "1         10       1      Kyle   \n",
       "2         10       1      Stan   \n",
       "3         10       1      Chef   \n",
       "4         10       1      Stan   \n",
       "...      ...     ...       ...   \n",
       "70891      9      14      Stan   \n",
       "70892      9      14     Randy   \n",
       "70893      9      14      Stan   \n",
       "70894      9      14     Randy   \n",
       "70895      9      14      Stan   \n",
       "\n",
       "                                                    Line  \n",
       "0             You guys, you guys! Chef is going away. \\n  \n",
       "1                            Going away? For how long?\\n  \n",
       "2                                             Forever.\\n  \n",
       "3                                      I'm sorry boys.\\n  \n",
       "4      Chef said he's been bored, so he joining a gro...  \n",
       "...                                                  ...  \n",
       "70891                       I think you're pushing it.\\n  \n",
       "70892                                How about twenty?\\n  \n",
       "70893                           That's not disciprine.\\n  \n",
       "70894                   Right right. Does vodka count?\\n  \n",
       "70895                                             Dad!\\n  \n",
       "\n",
       "[70896 rows x 4 columns]"
      ]
     },
     "execution_count": 14,
     "metadata": {},
     "output_type": "execute_result"
    }
   ],
   "source": [
    "df = pd.read_csv(\"https://0x0.st/H5DC.csv\")\n",
    "df"
   ]
  },
  {
   "cell_type": "code",
   "execution_count": 15,
   "metadata": {
    "id": "vQgg7fpCDVSB"
   },
   "outputs": [],
   "source": [
    "import re\n",
    "\n",
    "REGEX_WHITESPACE = re.compile(r\"\\s+\")\n",
    "\n",
    "\n",
    "def clean_text(text):\n",
    "    text = re.sub(REGEX_WHITESPACE, \" \", text)\n",
    "    text = text.strip()\n",
    "    return text"
   ]
  },
  {
   "cell_type": "code",
   "execution_count": 16,
   "metadata": {
    "colab": {
     "base_uri": "https://localhost:8080/"
    },
    "id": "wdkL3VMTDVSC",
    "outputId": "3655ff60-e955-4c9a-a658-9a83d1095711"
   },
   "outputs": [
    {
     "data": {
      "text/plain": [
       "0                  You guys, you guys! Chef is going away.\n",
       "1                                Going away? For how long?\n",
       "2                                                 Forever.\n",
       "3                                          I'm sorry boys.\n",
       "4        Chef said he's been bored, so he joining a gro...\n",
       "                               ...                        \n",
       "70891                           I think you're pushing it.\n",
       "70892                                    How about twenty?\n",
       "70893                               That's not disciprine.\n",
       "70894                       Right right. Does vodka count?\n",
       "70895                                                 Dad!\n",
       "Name: cleaned_text, Length: 70896, dtype: object"
      ]
     },
     "execution_count": 16,
     "metadata": {},
     "output_type": "execute_result"
    }
   ],
   "source": [
    "df[\"cleaned_text\"] = df[\"Line\"].apply(clean_text)\n",
    "df[\"cleaned_text\"]"
   ]
  },
  {
   "cell_type": "code",
   "execution_count": 17,
   "metadata": {
    "colab": {
     "base_uri": "https://localhost:8080/"
    },
    "id": "1rYqcBNzDVSD",
    "outputId": "496a650c-d807-40b2-b81b-53f9a84259a4"
   },
   "outputs": [
    {
     "data": {
      "text/plain": [
       "Character\n",
       "Cartman          9774\n",
       "Stan             7680\n",
       "Kyle             7099\n",
       "Butters          2602\n",
       "Randy            2467\n",
       "                 ... \n",
       "Reenactor 1         1\n",
       "Confederate 2       1\n",
       "Confederate 1       1\n",
       "Army Doctor         1\n",
       "Blind Man           1\n",
       "Name: count, Length: 3950, dtype: int64"
      ]
     },
     "execution_count": 17,
     "metadata": {},
     "output_type": "execute_result"
    }
   ],
   "source": [
    "df[\"Character\"].value_counts()"
   ]
  },
  {
   "cell_type": "code",
   "execution_count": 18,
   "metadata": {
    "colab": {
     "base_uri": "https://localhost:8080/"
    },
    "id": "SJRXisLeDVSE",
    "outputId": "f70ac6b6-0795-4343-f908-0cc573317223"
   },
   "outputs": [
    {
     "data": {
      "text/plain": [
       "0                 You guys, you guys! Chef is going away.\n",
       "1                                                Forever.\n",
       "2       Chef said he's been bored, so he joining a gro...\n",
       "3       Dude, how are we gonna go on? Chef was our fuh...\n",
       "4                                            I'll get it.\n",
       "                              ...                        \n",
       "7675                                           All right!\n",
       "7676           That's probably okay if you spread it out.\n",
       "7677                           I think you're pushing it.\n",
       "7678                               That's not disciprine.\n",
       "7679                                                 Dad!\n",
       "Name: cleaned_text, Length: 7680, dtype: object"
      ]
     },
     "execution_count": 18,
     "metadata": {},
     "output_type": "execute_result"
    }
   ],
   "source": [
    "stan = df[df[\"Character\"] == \"Stan\"][\"cleaned_text\"].reset_index(drop=True)\n",
    "stan"
   ]
  },
  {
   "cell_type": "code",
   "execution_count": 19,
   "metadata": {
    "id": "pjdP8h11D6sm"
   },
   "outputs": [
    {
     "name": "stdout",
     "output_type": "stream",
     "text": [
      "zsh:1: no matches found: spacy[cuda12x]\n",
      "Note: you may need to restart the kernel to use updated packages.\n"
     ]
    }
   ],
   "source": [
    "%pip install -U spacy[cuda12x] --quiet"
   ]
  },
  {
   "cell_type": "code",
   "execution_count": 20,
   "metadata": {
    "colab": {
     "base_uri": "https://localhost:8080/"
    },
    "id": "9N2cYEkYDVSF",
    "outputId": "b39fcce3-cfaa-4dce-c3fb-850dfae3b3a1"
   },
   "outputs": [
    {
     "name": "stdout",
     "output_type": "stream",
     "text": [
      "True\n"
     ]
    }
   ],
   "source": [
    "import spacy\n",
    "\n",
    "spacy_gpu = spacy.prefer_gpu()\n",
    "print(f\"{spacy_gpu}\")\n",
    "nlp = spacy.load(\"en_core_web_sm\")\n",
    "\n",
    "\n",
    "def preprocess_text(text):\n",
    "    doc = nlp(text.lower())\n",
    "    return \" \".join(\n",
    "        [token.lemma_ for token in doc if not token.is_stop and not token.is_punct]\n",
    "    )"
   ]
  },
  {
   "cell_type": "code",
   "execution_count": 21,
   "metadata": {
    "id": "Af4e7rAaDVSF"
   },
   "outputs": [],
   "source": [
    "from sklearn.feature_extraction.text import TfidfVectorizer\n",
    "\n",
    "processed_dataset = stan.apply(preprocess_text)\n",
    "\n",
    "vectorizer = TfidfVectorizer()\n",
    "tfidf_matrix = vectorizer.fit_transform(processed_dataset)"
   ]
  },
  {
   "cell_type": "code",
   "execution_count": 24,
   "metadata": {
    "id": "Sk332XlHDVSG"
   },
   "outputs": [],
   "source": [
    "from sklearn.metrics.pairwise import cosine_similarity\n",
    "\n",
    "\n",
    "def respond(query):\n",
    "    query_vector = vectorizer.transform([preprocess_text(query)])\n",
    "    similarity = cosine_similarity(tfidf_matrix, query_vector)\n",
    "    most_similar_index = similarity.argmax()\n",
    "    return stan[most_similar_index], similarity[most_similar_index]"
   ]
  },
  {
   "cell_type": "code",
   "execution_count": 25,
   "metadata": {
    "colab": {
     "base_uri": "https://localhost:8080/"
    },
    "id": "YwXJsjuVDVSI",
    "outputId": "e582c479-fb26-40d4-9060-e59b530d63bd"
   },
   "outputs": [
    {
     "name": "stdout",
     "output_type": "stream",
     "text": [
      "Q: What's your favorite thing to do with your friends after school?\n",
      "A: Yeah, dude. That's my favorite toy.\n",
      "Score: 0.4703949944239866\n",
      "\n",
      "Q: How do you feel about Wendy?\n",
      "A: How are you feeling?\n",
      "Score: 0.735900739202231\n",
      "\n",
      "Q: What do you think about Eric Cartman?\n",
      "A: I didn't think so.\n",
      "Score: 0.40745856183234935\n",
      "\n",
      "Q: Do you like living in South Park?\n",
      "A: What other crime in South Park?\n",
      "Score: 0.6029543543540647\n",
      "\n",
      "Q: I need to leave now, bye!\n",
      "A: No, they're leaving.\n",
      "Score: 0.5343109095614417\n",
      "\n"
     ]
    }
   ],
   "source": [
    "input_lines = [\n",
    "    \"What's your favorite thing to do with your friends after school?\",\n",
    "    \"How do you feel about Wendy?\",\n",
    "    \"What do you think about Eric Cartman?\",\n",
    "    \"Do you like living in South Park?\",\n",
    "    \"I need to leave now, bye!\",\n",
    "]\n",
    "\n",
    "responses = []\n",
    "scores = []\n",
    "\n",
    "for line in input_lines:\n",
    "    response, score = respond(line)\n",
    "    responses.append(response)\n",
    "    scores.append(score)\n",
    "    print(f\"Q: {line}\\nA: {response}\\nScore: {score.max()}\\n\")"
   ]
  }
 ],
 "metadata": {
  "colab": {
   "provenance": []
  },
  "kernelspec": {
   "display_name": "nlphw1",
   "language": "python",
   "name": "python3"
  },
  "language_info": {
   "codemirror_mode": {
    "name": "ipython",
    "version": 3
   },
   "file_extension": ".py",
   "mimetype": "text/x-python",
   "name": "python",
   "nbconvert_exporter": "python",
   "pygments_lexer": "ipython3",
   "version": "3.11.8"
  }
 },
 "nbformat": 4,
 "nbformat_minor": 0
}
